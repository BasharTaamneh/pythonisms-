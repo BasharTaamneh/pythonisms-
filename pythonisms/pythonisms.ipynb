{
 "cells": [
  {
   "cell_type": "code",
   "execution_count": 1,
   "metadata": {},
   "outputs": [],
   "source": [
    "from functools import wraps\n",
    "import functools\n",
    "from time import sleep, time"
   ]
  },
  {
   "cell_type": "markdown",
   "metadata": {},
   "source": [
    "# add ability to be used in a for in loop"
   ]
  },
  {
   "cell_type": "code",
   "execution_count": 2,
   "metadata": {},
   "outputs": [],
   "source": [
    "def iterators_generators_1(collection=None):\n",
    "\n",
    "    if not collection:\n",
    "        return\n",
    "\n",
    "    res = []\n",
    "    for item in collection:\n",
    "        res.append(item * 2)\n",
    "\n",
    "    return res\n"
   ]
  },
  {
   "cell_type": "code",
   "execution_count": 3,
   "metadata": {},
   "outputs": [
    {
     "name": "stdout",
     "output_type": "stream",
     "text": [
      "Pass\n"
     ]
    }
   ],
   "source": [
    "def test_iterators_generators_1():\n",
    "    expected = [2, 4, 6, 8, 10]\n",
    "    actual = iterators_generators_1([1, 2, 3, 4, 5]) \n",
    "    if actual == expected:\n",
    "        print(\"Pass\")\n",
    "    else:\n",
    "        print(\"Fail\")\n",
    "        \n",
    "test_iterators_generators_1()\n"
   ]
  },
  {
   "cell_type": "markdown",
   "metadata": {},
   "source": [
    "# add ability to be used in a list comprehension"
   ]
  },
  {
   "cell_type": "code",
   "execution_count": 4,
   "metadata": {},
   "outputs": [],
   "source": [
    "def iterators_generators_2(collection=None):\n",
    "\n",
    "    if not collection:\n",
    "        return\n",
    "\n",
    "    doubled = (item * 2 for item in collection)\n",
    "\n",
    "    return doubled"
   ]
  },
  {
   "cell_type": "code",
   "execution_count": 5,
   "metadata": {},
   "outputs": [
    {
     "name": "stdout",
     "output_type": "stream",
     "text": [
      "Pass\n"
     ]
    }
   ],
   "source": [
    "def test_iterators_generators_2():\n",
    "    expected = [2, 4, 6, 8, 10]\n",
    "    actual = iterators_generators_2([1, 2, 3, 4, 5]) \n",
    "    if actual == expected:\n",
    "        print(\"Pass\")\n",
    "    else:\n",
    "        print(\"Fail\")\n",
    "        \n",
    "test_iterators_generators_1()"
   ]
  },
  {
   "cell_type": "markdown",
   "metadata": {},
   "source": [
    "# add ability to convert to a list or other collection type\n"
   ]
  },
  {
   "cell_type": "code",
   "execution_count": 6,
   "metadata": {},
   "outputs": [],
   "source": [
    "def iterators_generators_3(collection=None):\n",
    "\n",
    "    if not collection:\n",
    "        return\n",
    "\n",
    "    res = dict()\n",
    "    for i, item in enumerate(collection):\n",
    "        res.update({i: item})\n",
    "\n",
    "    return res"
   ]
  },
  {
   "cell_type": "code",
   "execution_count": 7,
   "metadata": {},
   "outputs": [
    {
     "name": "stdout",
     "output_type": "stream",
     "text": [
      "Pass\n"
     ]
    }
   ],
   "source": [
    "def test_iterators_generators_3():\n",
    "    expected = {0: 'bashar', 1: 'addel', 2: 'taamneh'}\n",
    "    actual = iterators_generators_3([\"bashar\", \"addel\", \"taamneh\"]) \n",
    "    if actual == expected:\n",
    "        print(\"Pass\")\n",
    "    else:\n",
    "        print(\"Fail\")\n",
    "        \n",
    "test_iterators_generators_3()"
   ]
  },
  {
   "cell_type": "markdown",
   "metadata": {},
   "source": [
    "# Calculate the time spent in the function\n"
   ]
  },
  {
   "cell_type": "code",
   "execution_count": 8,
   "metadata": {},
   "outputs": [
    {
     "name": "stdout",
     "output_type": "stream",
     "text": [
      ">><< >><< >><< >><< >><< >><< >><< >><< >><< >><< >><< >><< >><< >><< >><< >><< >><< >><< >><< >><< >><< >><< >><< >><< >><< >><< >><< >><< >><< >><< >><< >><< >><< >><< >><< >><< >><< >><< >><< >><< >><< >><< >><< >><< >><< >><< >><< >><< >><< >><< >><< >><< >><< >><< >><< >><< >><< >><< >><< >><< >><< >><< >><< >><< >><< >><< >><< >><< >><< >><< >><< >><< >><< >><< >><< >><< >><< >><< >><< >><< >><< >><< >><< >><< >><< >><< >><< >><< >><< >><< >><< >><< >><< >><< >><< >><< >><< >><< >><< >><< Total execution time: 15 ms\n"
     ]
    }
   ],
   "source": [
    "def measure(func):\n",
    "    @wraps(func)\n",
    "    def _time_it(*args, **kwargs):\n",
    "        start = int(round(time() * 1000))\n",
    "        try:\n",
    "            return func(*args, **kwargs)\n",
    "        finally:\n",
    "            end_ = int(round(time() * 1000)) - start\n",
    "            print(f\"Total execution time: {end_ if end_ > 0 else 0} ms\")\n",
    "\n",
    "    return _time_it\n",
    "\n",
    "\n",
    "@measure\n",
    "def hello():\n",
    "    for _ in range(100):\n",
    "        print(\">><<\", end=\" \")\n",
    "hello()"
   ]
  },
  {
   "cell_type": "markdown",
   "metadata": {},
   "source": [
    "# Slow down the function\n"
   ]
  },
  {
   "cell_type": "code",
   "execution_count": 9,
   "metadata": {},
   "outputs": [
    {
     "name": "stdout",
     "output_type": "stream",
     "text": [
      "Slow down the function\n"
     ]
    },
    {
     "data": {
      "text/plain": [
       "'you have been wait for 3 seconds'"
      ]
     },
     "execution_count": 9,
     "metadata": {},
     "output_type": "execute_result"
    }
   ],
   "source": [
    "def decorator_1():\n",
    "    print(\"Slow down the function\")\n",
    "    sleep(3)\n",
    "    return(\"you have been wait for 3 seconds\")\n",
    "\n",
    "\n",
    "decorator_1()"
   ]
  },
  {
   "cell_type": "code",
   "execution_count": 10,
   "metadata": {},
   "outputs": [
    {
     "name": "stdout",
     "output_type": "stream",
     "text": [
      "Pass\n"
     ]
    }
   ],
   "source": [
    "def test_decorator_1():\n",
    "    expected = \"you have been wait for 3 seconds\"\n",
    "    actual = decorator_1()\n",
    "    if actual == expected:\n",
    "        print(\"Pass\")\n",
    "    else:\n",
    "        print(\"Fail\")\n",
    "        \n",
    "test_iterators_generators_3()"
   ]
  },
  {
   "cell_type": "markdown",
   "metadata": {},
   "source": [
    "# Convert the return value\n"
   ]
  },
  {
   "cell_type": "code",
   "execution_count": 11,
   "metadata": {},
   "outputs": [
    {
     "name": "stdout",
     "output_type": "stream",
     "text": [
      "<function hello at 0x7fc72030a940> was called.\n",
      "<function hello at 0x7fc72030a0d0> was called.\n",
      "hello\n"
     ]
    }
   ],
   "source": [
    "def mydecorator(f):\n",
    "    @functools.wraps(f)  # we tell wraps that the function we are wrapping is f\n",
    "    def log_f_as_called():\n",
    "        print(f\"{f} was called.\")\n",
    "        f()\n",
    "\n",
    "    return log_f_as_called\n",
    "\n",
    "\n",
    "@mydecorator\n",
    "@mydecorator\n",
    "def hello():\n",
    "    print(\"hello\")\n",
    "hello()"
   ]
  },
  {
   "cell_type": "markdown",
   "metadata": {},
   "source": [
    "# Use dunder methods make your code more readable and elegant.\n"
   ]
  },
  {
   "cell_type": "code",
   "execution_count": 12,
   "metadata": {},
   "outputs": [
    {
     "name": "stdout",
     "output_type": "stream",
     "text": [
      "Hello 401 python\n"
     ]
    }
   ],
   "source": [
    "class String:\n",
    "\n",
    "    # magic method to initiate object\n",
    "    def __init__(self, string):\n",
    "        self.string = string\n",
    "\n",
    "    # print our string object\n",
    "    def __repr__(self):\n",
    "        return \"Object: {}\".format(self.string)\n",
    "\n",
    "    def __add__(self, other):\n",
    "        return self.string + other\n",
    "\n",
    "\n",
    "# Driver Code\n",
    "if __name__ == '__main__':\n",
    "\n",
    "    # object creation\n",
    "    string1 = String('Hello')\n",
    "\n",
    "    # concatenate String object and a string\n",
    "    print(string1 +' 401 python')"
   ]
  },
  {
   "cell_type": "code",
   "execution_count": 13,
   "metadata": {},
   "outputs": [
    {
     "name": "stdout",
     "output_type": "stream",
     "text": [
      "Pass\n"
     ]
    }
   ],
   "source": [
    "def test_String_dunder():\n",
    "    string1 = String('Hello')\n",
    "    expected = \"Hello 401 python\"\n",
    "    actual = (string1 +' 401 python')\n",
    "    if actual == expected:\n",
    "        print(\"Pass\")\n",
    "    else:\n",
    "        print(\"Fail\")\n",
    "        \n",
    "test_String_dunder()"
   ]
  },
  {
   "cell_type": "code",
   "execution_count": 14,
   "metadata": {},
   "outputs": [],
   "source": [
    "class Positive:\n",
    "    def __init__(self, value):\n",
    "        self.value = value\n",
    "\n",
    "    def __bool__(self):\n",
    "        return self.value > 0"
   ]
  },
  {
   "cell_type": "code",
   "execution_count": 15,
   "metadata": {},
   "outputs": [],
   "source": [
    "\n",
    "\n",
    "plus_ten = Positive(10)\n",
    "minus_ten = Positive(-10)\n",
    "minus_twenty = Positive(-20)\n",
    "\n",
    "assert bool(plus_ten) == 1 == True\n",
    "assert bool(minus_ten) == 0 == False\n",
    "\n",
    "assert (minus_ten or plus_ten).value == 10\n",
    "\n",
    "# This is actually the tricky part\n",
    "# and the reason why it is not great idea to evaluate\n",
    "# your expression like this\n",
    "# instead ternary X if Expr else Y\n",
    "\n",
    "assert bool(plus_ten and minus_ten) == False\n",
    "assert (plus_ten and minus_ten).value == -10\n",
    "assert bool(minus_ten or minus_twenty) == False\n",
    "assert (minus_ten or minus_twenty).value == -20\n"
   ]
  }
 ],
 "metadata": {
  "interpreter": {
   "hash": "916dbcbb3f70747c44a77c7bcd40155683ae19c65e1c03b4aa3499c5328201f1"
  },
  "kernelspec": {
   "display_name": "Python 3.8.10 64-bit",
   "language": "python",
   "name": "python3"
  },
  "language_info": {
   "codemirror_mode": {
    "name": "ipython",
    "version": 3
   },
   "file_extension": ".py",
   "mimetype": "text/x-python",
   "name": "python",
   "nbconvert_exporter": "python",
   "pygments_lexer": "ipython3",
   "version": "3.9.9"
  },
  "orig_nbformat": 4
 },
 "nbformat": 4,
 "nbformat_minor": 2
}
